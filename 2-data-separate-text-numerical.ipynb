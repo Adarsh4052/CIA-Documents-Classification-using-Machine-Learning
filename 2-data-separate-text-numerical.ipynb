{
 "cells": [
  {
   "cell_type": "code",
   "execution_count": 1,
   "metadata": {
    "collapsed": true
   },
   "outputs": [],
   "source": [
    "# Dataset :- CIA Records Search Tool Metadata - https://data.world/cia-crest-files/cia-crest-archive-metadata\n",
    "# Data file :-  crest_lite_4.csv\n",
    "import pandas as pd\n",
    "import numpy as np\n",
    "import matplotlib.pyplot as plt\n",
    "\n",
    "\n",
    "# this file is separating data into two files - textual and numerical/categorical after converting the class labels into \n",
    "# numerical features"
   ]
  },
  {
   "cell_type": "code",
   "execution_count": 2,
   "metadata": {
    "collapsed": true
   },
   "outputs": [],
   "source": [
    "df = pd.read_csv(r'datasets\\crest-after-step0.csv')"
   ]
  },
  {
   "cell_type": "code",
   "execution_count": 3,
   "metadata": {
    "scrolled": true
   },
   "outputs": [
    {
     "data": {
      "text/html": [
       "<div>\n",
       "<style scoped>\n",
       "    .dataframe tbody tr th:only-of-type {\n",
       "        vertical-align: middle;\n",
       "    }\n",
       "\n",
       "    .dataframe tbody tr th {\n",
       "        vertical-align: top;\n",
       "    }\n",
       "\n",
       "    .dataframe thead th {\n",
       "        text-align: right;\n",
       "    }\n",
       "</style>\n",
       "<table border=\"1\" class=\"dataframe\">\n",
       "  <thead>\n",
       "    <tr style=\"text-align: right;\">\n",
       "      <th></th>\n",
       "      <th>title</th>\n",
       "      <th>collection</th>\n",
       "      <th>document_number</th>\n",
       "      <th>release_decision</th>\n",
       "      <th>document_page_count</th>\n",
       "      <th>sequence_number</th>\n",
       "      <th>publication_date</th>\n",
       "      <th>content_type</th>\n",
       "    </tr>\n",
       "  </thead>\n",
       "  <tbody>\n",
       "    <tr>\n",
       "      <th>0</th>\n",
       "      <td>BRIEFING TO COMPTROLLER'S OFFICE ON CLAS DIREC...</td>\n",
       "      <td>General_CIA_Records</td>\n",
       "      <td>CIA-RDP88G01332R001301470016-9</td>\n",
       "      <td>RIPPUB</td>\n",
       "      <td>3.0</td>\n",
       "      <td>16</td>\n",
       "      <td>October 31, 1986</td>\n",
       "      <td>MEMO</td>\n",
       "    </tr>\n",
       "    <tr>\n",
       "      <th>1</th>\n",
       "      <td>UNAUTHORIZED DISCLOSURES OF CLASSIFIED INFORMA...</td>\n",
       "      <td>General_CIA_Records</td>\n",
       "      <td>CIA-RDP94B00280R001200040002-0</td>\n",
       "      <td>RIPPUB</td>\n",
       "      <td>10.0</td>\n",
       "      <td>2</td>\n",
       "      <td>June 22, 1983</td>\n",
       "      <td>MEMO</td>\n",
       "    </tr>\n",
       "    <tr>\n",
       "      <th>2</th>\n",
       "      <td>WARNOW SHIPYARD, WARNEMUENDE POLSKA ZEGLUGA MO...</td>\n",
       "      <td>General_CIA_Records</td>\n",
       "      <td>CIA-RDP80-00810A002500690001-1</td>\n",
       "      <td>RIPPUB</td>\n",
       "      <td>4.0</td>\n",
       "      <td>1</td>\n",
       "      <td>November 3, 1953</td>\n",
       "      <td>REPORT</td>\n",
       "    </tr>\n",
       "    <tr>\n",
       "      <th>3</th>\n",
       "      <td>SOVIET MILITARY SHIPMENTS SOVIET MILITARY SHIP...</td>\n",
       "      <td>General_CIA_Records</td>\n",
       "      <td>CIA-RDP82-00457R008500360004-9</td>\n",
       "      <td>RIPPUB</td>\n",
       "      <td>2.0</td>\n",
       "      <td>4</td>\n",
       "      <td>August 13, 1951</td>\n",
       "      <td>REPORT</td>\n",
       "    </tr>\n",
       "  </tbody>\n",
       "</table>\n",
       "</div>"
      ],
      "text/plain": [
       "                                               title           collection  \\\n",
       "0  BRIEFING TO COMPTROLLER'S OFFICE ON CLAS DIREC...  General_CIA_Records   \n",
       "1  UNAUTHORIZED DISCLOSURES OF CLASSIFIED INFORMA...  General_CIA_Records   \n",
       "2  WARNOW SHIPYARD, WARNEMUENDE POLSKA ZEGLUGA MO...  General_CIA_Records   \n",
       "3  SOVIET MILITARY SHIPMENTS SOVIET MILITARY SHIP...  General_CIA_Records   \n",
       "\n",
       "                  document_number release_decision  document_page_count  \\\n",
       "0  CIA-RDP88G01332R001301470016-9           RIPPUB                  3.0   \n",
       "1  CIA-RDP94B00280R001200040002-0           RIPPUB                 10.0   \n",
       "2  CIA-RDP80-00810A002500690001-1           RIPPUB                  4.0   \n",
       "3  CIA-RDP82-00457R008500360004-9           RIPPUB                  2.0   \n",
       "\n",
       "   sequence_number  publication_date content_type  \n",
       "0               16  October 31, 1986         MEMO  \n",
       "1                2     June 22, 1983         MEMO  \n",
       "2                1  November 3, 1953       REPORT  \n",
       "3                4   August 13, 1951       REPORT  "
      ]
     },
     "execution_count": 3,
     "metadata": {},
     "output_type": "execute_result"
    }
   ],
   "source": [
    "df.head(4)"
   ]
  },
  {
   "cell_type": "code",
   "execution_count": 4,
   "metadata": {},
   "outputs": [
    {
     "data": {
      "text/plain": [
       "4    15000\n",
       "3    15000\n",
       "2    15000\n",
       "1    15000\n",
       "0    15000\n",
       "Name: collection_labels, dtype: int64"
      ]
     },
     "execution_count": 4,
     "metadata": {},
     "output_type": "execute_result"
    }
   ],
   "source": [
    "# change collection into the numerical values with factorize() method\n",
    "#df['category_id'] = df['Product'].factorize()[0]\n",
    "df['collection_labels'] = df['collection'].factorize()[0]\n",
    "\n",
    "df['collection_labels'].value_counts()"
   ]
  },
  {
   "cell_type": "code",
   "execution_count": 5,
   "metadata": {},
   "outputs": [
    {
     "data": {
      "text/html": [
       "<div>\n",
       "<style scoped>\n",
       "    .dataframe tbody tr th:only-of-type {\n",
       "        vertical-align: middle;\n",
       "    }\n",
       "\n",
       "    .dataframe tbody tr th {\n",
       "        vertical-align: top;\n",
       "    }\n",
       "\n",
       "    .dataframe thead th {\n",
       "        text-align: right;\n",
       "    }\n",
       "</style>\n",
       "<table border=\"1\" class=\"dataframe\">\n",
       "  <thead>\n",
       "    <tr style=\"text-align: right;\">\n",
       "      <th></th>\n",
       "      <th>collection</th>\n",
       "      <th>collection_labels</th>\n",
       "    </tr>\n",
       "  </thead>\n",
       "  <tbody>\n",
       "    <tr>\n",
       "      <th>0</th>\n",
       "      <td>General_CIA_Records</td>\n",
       "      <td>0</td>\n",
       "    </tr>\n",
       "    <tr>\n",
       "      <th>15000</th>\n",
       "      <td>NGA_Records</td>\n",
       "      <td>1</td>\n",
       "    </tr>\n",
       "    <tr>\n",
       "      <th>30000</th>\n",
       "      <td>Scientific_Abstracts</td>\n",
       "      <td>2</td>\n",
       "    </tr>\n",
       "    <tr>\n",
       "      <th>45000</th>\n",
       "      <td>Consolidated_Translations</td>\n",
       "      <td>3</td>\n",
       "    </tr>\n",
       "    <tr>\n",
       "      <th>60000</th>\n",
       "      <td>Misc</td>\n",
       "      <td>4</td>\n",
       "    </tr>\n",
       "  </tbody>\n",
       "</table>\n",
       "</div>"
      ],
      "text/plain": [
       "                      collection  collection_labels\n",
       "0            General_CIA_Records                  0\n",
       "15000                NGA_Records                  1\n",
       "30000       Scientific_Abstracts                  2\n",
       "45000  Consolidated_Translations                  3\n",
       "60000                       Misc                  4"
      ]
     },
     "execution_count": 5,
     "metadata": {},
     "output_type": "execute_result"
    }
   ],
   "source": [
    "collection_labels_df = df[['collection', 'collection_labels']].drop_duplicates().sort_values('collection_labels')\n",
    "collection_labels_df"
   ]
  },
  {
   "cell_type": "code",
   "execution_count": 9,
   "metadata": {
    "collapsed": true
   },
   "outputs": [],
   "source": [
    "# save/pickle the the collection labels dataframe for future use \n",
    "import pickle\n",
    "\n",
    "pickle_save = open(r\"pickle-intermediate-data\\collection_labels_df.pickle\",\"wb\")\n",
    "pickle.dump(collection_labels_df, pickle_save)\n",
    "pickle_save.close()\n"
   ]
  },
  {
   "cell_type": "code",
   "execution_count": 6,
   "metadata": {
    "collapsed": true
   },
   "outputs": [],
   "source": [
    "# converting to dict \n",
    "label_dict = collection_labels_df.to_dict() "
   ]
  },
  {
   "cell_type": "code",
   "execution_count": 7,
   "metadata": {},
   "outputs": [
    {
     "name": "stdout",
     "output_type": "stream",
     "text": [
      "{'collection': {0: 'General_CIA_Records', 15000: 'NGA_Records', 30000: 'Scientific_Abstracts', 45000: 'Consolidated_Translations', 60000: 'Misc'}, 'collection_labels': {0: 0, 15000: 1, 30000: 2, 45000: 3, 60000: 4}}\n"
     ]
    }
   ],
   "source": [
    "print(label_dict)"
   ]
  },
  {
   "cell_type": "code",
   "execution_count": 6,
   "metadata": {},
   "outputs": [
    {
     "data": {
      "text/plain": [
       "(75000, 9)"
      ]
     },
     "execution_count": 6,
     "metadata": {},
     "output_type": "execute_result"
    }
   ],
   "source": [
    "df.shape"
   ]
  },
  {
   "cell_type": "code",
   "execution_count": 7,
   "metadata": {},
   "outputs": [
    {
     "data": {
      "text/plain": [
       "Index(['title', 'collection', 'document_number', 'release_decision',\n",
       "       'document_page_count', 'sequence_number', 'publication_date',\n",
       "       'content_type', 'collection_labels'],\n",
       "      dtype='object')"
      ]
     },
     "execution_count": 7,
     "metadata": {},
     "output_type": "execute_result"
    }
   ],
   "source": [
    "df.columns"
   ]
  },
  {
   "cell_type": "code",
   "execution_count": 8,
   "metadata": {},
   "outputs": [
    {
     "data": {
      "text/html": [
       "<div>\n",
       "<style scoped>\n",
       "    .dataframe tbody tr th:only-of-type {\n",
       "        vertical-align: middle;\n",
       "    }\n",
       "\n",
       "    .dataframe tbody tr th {\n",
       "        vertical-align: top;\n",
       "    }\n",
       "\n",
       "    .dataframe thead th {\n",
       "        text-align: right;\n",
       "    }\n",
       "</style>\n",
       "<table border=\"1\" class=\"dataframe\">\n",
       "  <thead>\n",
       "    <tr style=\"text-align: right;\">\n",
       "      <th></th>\n",
       "      <th>title</th>\n",
       "      <th>collection</th>\n",
       "      <th>document_number</th>\n",
       "      <th>release_decision</th>\n",
       "      <th>document_page_count</th>\n",
       "      <th>sequence_number</th>\n",
       "      <th>publication_date</th>\n",
       "      <th>content_type</th>\n",
       "      <th>collection_labels</th>\n",
       "    </tr>\n",
       "  </thead>\n",
       "  <tbody>\n",
       "    <tr>\n",
       "      <th>74993</th>\n",
       "      <td>SESSION INFORMATION. TASK/TARGET NO: 92-53-L. ...</td>\n",
       "      <td>Misc</td>\n",
       "      <td>CIA-RDP96-00789R002301250001-8</td>\n",
       "      <td>RIFPUB</td>\n",
       "      <td>4.0</td>\n",
       "      <td>1</td>\n",
       "      <td>May 6, 1992</td>\n",
       "      <td>NOTES</td>\n",
       "      <td>4</td>\n",
       "    </tr>\n",
       "    <tr>\n",
       "      <th>74994</th>\n",
       "      <td>203653 - 203753 220124- 220223 222673- 222772 ...</td>\n",
       "      <td>Misc</td>\n",
       "      <td>CIA-RDP78-05867A000200480001-5</td>\n",
       "      <td>RIPPUB</td>\n",
       "      <td>100.0</td>\n",
       "      <td>1</td>\n",
       "      <td>October 4, 1974</td>\n",
       "      <td>CAPCARD</td>\n",
       "      <td>4</td>\n",
       "    </tr>\n",
       "    <tr>\n",
       "      <th>74995</th>\n",
       "      <td>SESSION INFORMATION TARGET 93-211-P VIEWER 079...</td>\n",
       "      <td>Misc</td>\n",
       "      <td>CIA-RDP96-00789R002500190013-1</td>\n",
       "      <td>RIPPUB</td>\n",
       "      <td>3.0</td>\n",
       "      <td>13</td>\n",
       "      <td>October 26, 1993</td>\n",
       "      <td>SUMMARY</td>\n",
       "      <td>4</td>\n",
       "    </tr>\n",
       "    <tr>\n",
       "      <th>74996</th>\n",
       "      <td>TRANSCRIPT REMOTE VIEWING SESSION 842 TRANSCRI...</td>\n",
       "      <td>Misc</td>\n",
       "      <td>CIA-RDP96-00788R000700150001-9</td>\n",
       "      <td>RIFPUB</td>\n",
       "      <td>22.0</td>\n",
       "      <td>1</td>\n",
       "      <td>January 5, 1982</td>\n",
       "      <td>REPORT</td>\n",
       "      <td>4</td>\n",
       "    </tr>\n",
       "    <tr>\n",
       "      <th>74997</th>\n",
       "      <td>FEEDBACK ON STAR GATE PROJECTS 93-210 AND 93-2...</td>\n",
       "      <td>Misc</td>\n",
       "      <td>CIA-RDP96-00789R002500050009-1</td>\n",
       "      <td>RIPPUB</td>\n",
       "      <td>4.0</td>\n",
       "      <td>9</td>\n",
       "      <td>December 3, 1993</td>\n",
       "      <td>LETTER</td>\n",
       "      <td>4</td>\n",
       "    </tr>\n",
       "    <tr>\n",
       "      <th>74998</th>\n",
       "      <td>INFORMATION ITEMS I. INTRODUCTION 1. WE BELIEV...</td>\n",
       "      <td>Misc</td>\n",
       "      <td>LOC-HAK-550-2-66-6</td>\n",
       "      <td>RIPLIM</td>\n",
       "      <td>3.0</td>\n",
       "      <td>66</td>\n",
       "      <td>October 31, 1974</td>\n",
       "      <td>CABLE</td>\n",
       "      <td>4</td>\n",
       "    </tr>\n",
       "    <tr>\n",
       "      <th>74999</th>\n",
       "      <td>GROUND PHOTO CAPTION CARD 1239723 - 1239772 GR...</td>\n",
       "      <td>Misc</td>\n",
       "      <td>CIA-RDP78-05867A000621530010-2</td>\n",
       "      <td>RIPPUB</td>\n",
       "      <td>44.0</td>\n",
       "      <td>10</td>\n",
       "      <td>October 4, 1976</td>\n",
       "      <td>CAPCARD</td>\n",
       "      <td>4</td>\n",
       "    </tr>\n",
       "  </tbody>\n",
       "</table>\n",
       "</div>"
      ],
      "text/plain": [
       "                                                   title collection  \\\n",
       "74993  SESSION INFORMATION. TASK/TARGET NO: 92-53-L. ...       Misc   \n",
       "74994  203653 - 203753 220124- 220223 222673- 222772 ...       Misc   \n",
       "74995  SESSION INFORMATION TARGET 93-211-P VIEWER 079...       Misc   \n",
       "74996  TRANSCRIPT REMOTE VIEWING SESSION 842 TRANSCRI...       Misc   \n",
       "74997  FEEDBACK ON STAR GATE PROJECTS 93-210 AND 93-2...       Misc   \n",
       "74998  INFORMATION ITEMS I. INTRODUCTION 1. WE BELIEV...       Misc   \n",
       "74999  GROUND PHOTO CAPTION CARD 1239723 - 1239772 GR...       Misc   \n",
       "\n",
       "                      document_number release_decision  document_page_count  \\\n",
       "74993  CIA-RDP96-00789R002301250001-8           RIFPUB                  4.0   \n",
       "74994  CIA-RDP78-05867A000200480001-5           RIPPUB                100.0   \n",
       "74995  CIA-RDP96-00789R002500190013-1           RIPPUB                  3.0   \n",
       "74996  CIA-RDP96-00788R000700150001-9           RIFPUB                 22.0   \n",
       "74997  CIA-RDP96-00789R002500050009-1           RIPPUB                  4.0   \n",
       "74998              LOC-HAK-550-2-66-6           RIPLIM                  3.0   \n",
       "74999  CIA-RDP78-05867A000621530010-2           RIPPUB                 44.0   \n",
       "\n",
       "       sequence_number  publication_date content_type  collection_labels  \n",
       "74993                1       May 6, 1992        NOTES                  4  \n",
       "74994                1   October 4, 1974      CAPCARD                  4  \n",
       "74995               13  October 26, 1993      SUMMARY                  4  \n",
       "74996                1   January 5, 1982       REPORT                  4  \n",
       "74997                9  December 3, 1993       LETTER                  4  \n",
       "74998               66  October 31, 1974        CABLE                  4  \n",
       "74999               10   October 4, 1976      CAPCARD                  4  "
      ]
     },
     "execution_count": 8,
     "metadata": {},
     "output_type": "execute_result"
    }
   ],
   "source": [
    "df.tail(7)"
   ]
  },
  {
   "cell_type": "code",
   "execution_count": 9,
   "metadata": {
    "collapsed": true
   },
   "outputs": [],
   "source": [
    "# let's save the text data with labels into one file and numeric in another\n",
    "data_text = df[['title' , 'collection', 'collection_labels']]\n",
    "\n",
    "data_numeric = df[['collection', 'document_number', 'release_decision', 'document_page_count', 'sequence_number',\n",
    "                   'publication_date', 'content_type', 'collection_labels']]\n",
    "# Save text data file with the labels\n",
    "data_text.to_csv(r'datasets\\crest-data-text.csv', index=False)\n",
    "# save numeric data file with the labels\n",
    "data_numeric.to_csv(r'datasets\\crest-data-numeric.csv', index=False)"
   ]
  },
  {
   "cell_type": "code",
   "execution_count": 14,
   "metadata": {},
   "outputs": [
    {
     "name": "stdout",
     "output_type": "stream",
     "text": [
      "Number of pages in the document varies from 1136.0 to 1.0\n"
     ]
    }
   ],
   "source": [
    "# explore the data\n",
    "# document page count\n",
    "print(\"Number of pages in the document varies from \"+ str(df['document_page_count'].max()) +\n",
    "      \" to \"+str(df['document_page_count'].min()))\n"
   ]
  },
  {
   "cell_type": "code",
   "execution_count": 18,
   "metadata": {},
   "outputs": [
    {
     "data": {
      "text/plain": [
       "General_CIA_Records    3109\n",
       "Misc                   1438\n",
       "NGA_Records             324\n",
       "Name: collection, dtype: int64"
      ]
     },
     "execution_count": 18,
     "metadata": {},
     "output_type": "execute_result"
    }
   ],
   "source": [
    "df['collection'][df['content_type'] == 'MEMO'].value_counts()"
   ]
  },
  {
   "cell_type": "code",
   "execution_count": 20,
   "metadata": {},
   "outputs": [
    {
     "data": {
      "text/plain": [
       "ABSTRACTS              15000\n",
       "SCIENTIFIC ABSTRACT    12956\n",
       "REPORT                 11951\n",
       "CAPCARD                 6709\n",
       "MEMO                    4871\n",
       "CABLE                   4340\n",
       "MF                      2475\n",
       "OPEN SOURCE             2224\n",
       "SCIENCEAB               1617\n",
       "MISC                    1513\n",
       "LETTER                  1500\n",
       "REQ                     1274\n",
       "FORM                    1038\n",
       "NSPR                     835\n",
       "IR                       772\n",
       "MFR                      707\n",
       "SUMMARY                  680\n",
       "BRIEF                    623\n",
       "HW                       616\n",
       "NOTES                    504\n",
       "SCIENTIFIC ABSTR         372\n",
       "CONT                     215\n",
       "MIN                      213\n",
       "REGULATION               204\n",
       "LIST                     197\n",
       "IM                       181\n",
       "PERRPT                   164\n",
       "OPEN                     151\n",
       "PHOTO                    150\n",
       "STATEMENT                 98\n",
       "PAPER                     86\n",
       "RP                        85\n",
       "BULL                      70\n",
       "SS                        63\n",
       "MAGAZINE                  61\n",
       "TRANS                     61\n",
       "AG                        60\n",
       "STUDY                     57\n",
       "NIE                       46\n",
       "PREL                      30\n",
       "OUTLINE                   28\n",
       "SNIE                      26\n",
       "CHART                     25\n",
       "RS                        23\n",
       "MAP                       22\n",
       "DISP                      21\n",
       "CIAPER                    18\n",
       "TELEGRAM                  12\n",
       "SPEECH                    10\n",
       "TRIP                       9\n",
       "BOOK                       8\n",
       "IRR                        8\n",
       "TDCS                       7\n",
       "BR                         4\n",
       "BIO                        3\n",
       "SE                         2\n",
       "IS                         2\n",
       "NIS                        2\n",
       "DCID                       1\n",
       "Name: content_type, dtype: int64"
      ]
     },
     "execution_count": 20,
     "metadata": {},
     "output_type": "execute_result"
    }
   ],
   "source": [
    "df['content_type'].value_counts()"
   ]
  }
 ],
 "metadata": {
  "kernelspec": {
   "display_name": "Python 3",
   "language": "python",
   "name": "python3"
  },
  "language_info": {
   "codemirror_mode": {
    "name": "ipython",
    "version": 3
   },
   "file_extension": ".py",
   "mimetype": "text/x-python",
   "name": "python",
   "nbconvert_exporter": "python",
   "pygments_lexer": "ipython3",
   "version": "3.5.4"
  }
 },
 "nbformat": 4,
 "nbformat_minor": 2
}
