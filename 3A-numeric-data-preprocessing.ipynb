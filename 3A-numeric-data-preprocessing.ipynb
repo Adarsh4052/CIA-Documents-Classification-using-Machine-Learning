{
 "cells": [
  {
   "cell_type": "code",
   "execution_count": 81,
   "metadata": {
    "collapsed": true
   },
   "outputs": [],
   "source": [
    "# load numeric data for preprocessing and modelling\n",
    "import pandas as pd\n",
    "df = pd.read_csv(r'datasets\\crest-data-numeric.csv')"
   ]
  },
  {
   "cell_type": "code",
   "execution_count": 82,
   "metadata": {
    "collapsed": true
   },
   "outputs": [],
   "source": [
    "# to plots with matplotlib\n",
    "%matplotlib inline"
   ]
  },
  {
   "cell_type": "code",
   "execution_count": 83,
   "metadata": {},
   "outputs": [
    {
     "data": {
      "text/html": [
       "<div>\n",
       "<style scoped>\n",
       "    .dataframe tbody tr th:only-of-type {\n",
       "        vertical-align: middle;\n",
       "    }\n",
       "\n",
       "    .dataframe tbody tr th {\n",
       "        vertical-align: top;\n",
       "    }\n",
       "\n",
       "    .dataframe thead th {\n",
       "        text-align: right;\n",
       "    }\n",
       "</style>\n",
       "<table border=\"1\" class=\"dataframe\">\n",
       "  <thead>\n",
       "    <tr style=\"text-align: right;\">\n",
       "      <th></th>\n",
       "      <th>collection</th>\n",
       "      <th>document_number</th>\n",
       "      <th>release_decision</th>\n",
       "      <th>document_page_count</th>\n",
       "      <th>sequence_number</th>\n",
       "      <th>publication_date</th>\n",
       "      <th>content_type</th>\n",
       "      <th>collection_labels</th>\n",
       "    </tr>\n",
       "  </thead>\n",
       "  <tbody>\n",
       "    <tr>\n",
       "      <th>0</th>\n",
       "      <td>General_CIA_Records</td>\n",
       "      <td>CIA-RDP88G01332R001301470016-9</td>\n",
       "      <td>RIPPUB</td>\n",
       "      <td>3.0</td>\n",
       "      <td>16</td>\n",
       "      <td>October 31, 1986</td>\n",
       "      <td>MEMO</td>\n",
       "      <td>0</td>\n",
       "    </tr>\n",
       "    <tr>\n",
       "      <th>1</th>\n",
       "      <td>General_CIA_Records</td>\n",
       "      <td>CIA-RDP94B00280R001200040002-0</td>\n",
       "      <td>RIPPUB</td>\n",
       "      <td>10.0</td>\n",
       "      <td>2</td>\n",
       "      <td>June 22, 1983</td>\n",
       "      <td>MEMO</td>\n",
       "      <td>0</td>\n",
       "    </tr>\n",
       "    <tr>\n",
       "      <th>2</th>\n",
       "      <td>General_CIA_Records</td>\n",
       "      <td>CIA-RDP80-00810A002500690001-1</td>\n",
       "      <td>RIPPUB</td>\n",
       "      <td>4.0</td>\n",
       "      <td>1</td>\n",
       "      <td>November 3, 1953</td>\n",
       "      <td>REPORT</td>\n",
       "      <td>0</td>\n",
       "    </tr>\n",
       "    <tr>\n",
       "      <th>3</th>\n",
       "      <td>General_CIA_Records</td>\n",
       "      <td>CIA-RDP82-00457R008500360004-9</td>\n",
       "      <td>RIPPUB</td>\n",
       "      <td>2.0</td>\n",
       "      <td>4</td>\n",
       "      <td>August 13, 1951</td>\n",
       "      <td>REPORT</td>\n",
       "      <td>0</td>\n",
       "    </tr>\n",
       "    <tr>\n",
       "      <th>4</th>\n",
       "      <td>General_CIA_Records</td>\n",
       "      <td>CIA-RDP70-00211R000100070047-1</td>\n",
       "      <td>RIPPUB</td>\n",
       "      <td>2.0</td>\n",
       "      <td>47</td>\n",
       "      <td>January 5, 1953</td>\n",
       "      <td>REPORT</td>\n",
       "      <td>0</td>\n",
       "    </tr>\n",
       "  </tbody>\n",
       "</table>\n",
       "</div>"
      ],
      "text/plain": [
       "            collection                 document_number release_decision  \\\n",
       "0  General_CIA_Records  CIA-RDP88G01332R001301470016-9           RIPPUB   \n",
       "1  General_CIA_Records  CIA-RDP94B00280R001200040002-0           RIPPUB   \n",
       "2  General_CIA_Records  CIA-RDP80-00810A002500690001-1           RIPPUB   \n",
       "3  General_CIA_Records  CIA-RDP82-00457R008500360004-9           RIPPUB   \n",
       "4  General_CIA_Records  CIA-RDP70-00211R000100070047-1           RIPPUB   \n",
       "\n",
       "   document_page_count  sequence_number  publication_date content_type  \\\n",
       "0                  3.0               16  October 31, 1986         MEMO   \n",
       "1                 10.0                2     June 22, 1983         MEMO   \n",
       "2                  4.0                1  November 3, 1953       REPORT   \n",
       "3                  2.0                4   August 13, 1951       REPORT   \n",
       "4                  2.0               47   January 5, 1953       REPORT   \n",
       "\n",
       "   collection_labels  \n",
       "0                  0  \n",
       "1                  0  \n",
       "2                  0  \n",
       "3                  0  \n",
       "4                  0  "
      ]
     },
     "execution_count": 83,
     "metadata": {},
     "output_type": "execute_result"
    }
   ],
   "source": [
    "df.head(5)"
   ]
  },
  {
   "cell_type": "code",
   "execution_count": 84,
   "metadata": {},
   "outputs": [
    {
     "data": {
      "text/plain": [
       "(75000, 8)"
      ]
     },
     "execution_count": 84,
     "metadata": {},
     "output_type": "execute_result"
    }
   ],
   "source": [
    "df.shape"
   ]
  },
  {
   "cell_type": "code",
   "execution_count": 85,
   "metadata": {},
   "outputs": [
    {
     "data": {
      "text/plain": [
       "Index(['collection', 'document_number', 'release_decision',\n",
       "       'document_page_count', 'sequence_number', 'publication_date',\n",
       "       'content_type', 'collection_labels'],\n",
       "      dtype='object')"
      ]
     },
     "execution_count": 85,
     "metadata": {},
     "output_type": "execute_result"
    }
   ],
   "source": [
    "df.columns"
   ]
  },
  {
   "cell_type": "code",
   "execution_count": 86,
   "metadata": {
    "collapsed": true
   },
   "outputs": [],
   "source": [
    "# 1) convert the date time to pandas date time format and then extract day, month and year as features\n",
    "df['publication_date'] = pd.to_datetime(df.publication_date)"
   ]
  },
  {
   "cell_type": "code",
   "execution_count": 87,
   "metadata": {},
   "outputs": [
    {
     "data": {
      "text/plain": [
       "0        1986\n",
       "1        1983\n",
       "2        1953\n",
       "3        1951\n",
       "4        1953\n",
       "5        1988\n",
       "6        1952\n",
       "7        1949\n",
       "8        1985\n",
       "9        1962\n",
       "10       1965\n",
       "11       1987\n",
       "12       1952\n",
       "13       1984\n",
       "14       1969\n",
       "15       1987\n",
       "16       1964\n",
       "17       1979\n",
       "18       1987\n",
       "19       1955\n",
       "20       1952\n",
       "21       1959\n",
       "22       1963\n",
       "23       1953\n",
       "24       1981\n",
       "25       1951\n",
       "26       1982\n",
       "27       1952\n",
       "28       1986\n",
       "29       1984\n",
       "         ... \n",
       "74970    1991\n",
       "74971    1976\n",
       "74972    1974\n",
       "74973    1974\n",
       "74974    1987\n",
       "74975    1989\n",
       "74976    1989\n",
       "74977    1989\n",
       "74978    1974\n",
       "74979    1974\n",
       "74980    1975\n",
       "74981    1976\n",
       "74982    1976\n",
       "74983    1972\n",
       "74984    1976\n",
       "74985    1971\n",
       "74986    1970\n",
       "74987    1988\n",
       "74988    1984\n",
       "74989    1976\n",
       "74990    1976\n",
       "74991    1994\n",
       "74992    1976\n",
       "74993    1992\n",
       "74994    1974\n",
       "74995    1993\n",
       "74996    1982\n",
       "74997    1993\n",
       "74998    1974\n",
       "74999    1976\n",
       "Name: publication_date, Length: 75000, dtype: int64"
      ]
     },
     "execution_count": 87,
     "metadata": {},
     "output_type": "execute_result"
    }
   ],
   "source": [
    "df.publication_date.dt.year"
   ]
  },
  {
   "cell_type": "code",
   "execution_count": 88,
   "metadata": {},
   "outputs": [
    {
     "data": {
      "text/html": [
       "<div>\n",
       "<style scoped>\n",
       "    .dataframe tbody tr th:only-of-type {\n",
       "        vertical-align: middle;\n",
       "    }\n",
       "\n",
       "    .dataframe tbody tr th {\n",
       "        vertical-align: top;\n",
       "    }\n",
       "\n",
       "    .dataframe thead th {\n",
       "        text-align: right;\n",
       "    }\n",
       "</style>\n",
       "<table border=\"1\" class=\"dataframe\">\n",
       "  <thead>\n",
       "    <tr style=\"text-align: right;\">\n",
       "      <th></th>\n",
       "      <th>collection</th>\n",
       "      <th>document_number</th>\n",
       "      <th>release_decision</th>\n",
       "      <th>document_page_count</th>\n",
       "      <th>sequence_number</th>\n",
       "      <th>publication_date</th>\n",
       "      <th>content_type</th>\n",
       "      <th>collection_labels</th>\n",
       "      <th>publication_day</th>\n",
       "      <th>publication_month</th>\n",
       "      <th>publication_year</th>\n",
       "    </tr>\n",
       "  </thead>\n",
       "  <tbody>\n",
       "    <tr>\n",
       "      <th>0</th>\n",
       "      <td>General_CIA_Records</td>\n",
       "      <td>CIA-RDP88G01332R001301470016-9</td>\n",
       "      <td>RIPPUB</td>\n",
       "      <td>3.0</td>\n",
       "      <td>16</td>\n",
       "      <td>1986-10-31</td>\n",
       "      <td>MEMO</td>\n",
       "      <td>0</td>\n",
       "      <td>31</td>\n",
       "      <td>10</td>\n",
       "      <td>1986</td>\n",
       "    </tr>\n",
       "    <tr>\n",
       "      <th>1</th>\n",
       "      <td>General_CIA_Records</td>\n",
       "      <td>CIA-RDP94B00280R001200040002-0</td>\n",
       "      <td>RIPPUB</td>\n",
       "      <td>10.0</td>\n",
       "      <td>2</td>\n",
       "      <td>1983-06-22</td>\n",
       "      <td>MEMO</td>\n",
       "      <td>0</td>\n",
       "      <td>22</td>\n",
       "      <td>6</td>\n",
       "      <td>1983</td>\n",
       "    </tr>\n",
       "    <tr>\n",
       "      <th>2</th>\n",
       "      <td>General_CIA_Records</td>\n",
       "      <td>CIA-RDP80-00810A002500690001-1</td>\n",
       "      <td>RIPPUB</td>\n",
       "      <td>4.0</td>\n",
       "      <td>1</td>\n",
       "      <td>1953-11-03</td>\n",
       "      <td>REPORT</td>\n",
       "      <td>0</td>\n",
       "      <td>3</td>\n",
       "      <td>11</td>\n",
       "      <td>1953</td>\n",
       "    </tr>\n",
       "    <tr>\n",
       "      <th>3</th>\n",
       "      <td>General_CIA_Records</td>\n",
       "      <td>CIA-RDP82-00457R008500360004-9</td>\n",
       "      <td>RIPPUB</td>\n",
       "      <td>2.0</td>\n",
       "      <td>4</td>\n",
       "      <td>1951-08-13</td>\n",
       "      <td>REPORT</td>\n",
       "      <td>0</td>\n",
       "      <td>13</td>\n",
       "      <td>8</td>\n",
       "      <td>1951</td>\n",
       "    </tr>\n",
       "    <tr>\n",
       "      <th>4</th>\n",
       "      <td>General_CIA_Records</td>\n",
       "      <td>CIA-RDP70-00211R000100070047-1</td>\n",
       "      <td>RIPPUB</td>\n",
       "      <td>2.0</td>\n",
       "      <td>47</td>\n",
       "      <td>1953-01-05</td>\n",
       "      <td>REPORT</td>\n",
       "      <td>0</td>\n",
       "      <td>5</td>\n",
       "      <td>1</td>\n",
       "      <td>1953</td>\n",
       "    </tr>\n",
       "  </tbody>\n",
       "</table>\n",
       "</div>"
      ],
      "text/plain": [
       "            collection                 document_number release_decision  \\\n",
       "0  General_CIA_Records  CIA-RDP88G01332R001301470016-9           RIPPUB   \n",
       "1  General_CIA_Records  CIA-RDP94B00280R001200040002-0           RIPPUB   \n",
       "2  General_CIA_Records  CIA-RDP80-00810A002500690001-1           RIPPUB   \n",
       "3  General_CIA_Records  CIA-RDP82-00457R008500360004-9           RIPPUB   \n",
       "4  General_CIA_Records  CIA-RDP70-00211R000100070047-1           RIPPUB   \n",
       "\n",
       "   document_page_count  sequence_number publication_date content_type  \\\n",
       "0                  3.0               16       1986-10-31         MEMO   \n",
       "1                 10.0                2       1983-06-22         MEMO   \n",
       "2                  4.0                1       1953-11-03       REPORT   \n",
       "3                  2.0                4       1951-08-13       REPORT   \n",
       "4                  2.0               47       1953-01-05       REPORT   \n",
       "\n",
       "   collection_labels  publication_day  publication_month  publication_year  \n",
       "0                  0               31                 10              1986  \n",
       "1                  0               22                  6              1983  \n",
       "2                  0                3                 11              1953  \n",
       "3                  0               13                  8              1951  \n",
       "4                  0                5                  1              1953  "
      ]
     },
     "execution_count": 88,
     "metadata": {},
     "output_type": "execute_result"
    }
   ],
   "source": [
    "# create new feature for date, month and year separetly\n",
    "df['publication_day'] = df.publication_date.dt.day\n",
    "df['publication_month'] = df.publication_date.dt.month\n",
    "df['publication_year'] = df.publication_date.dt.year\n",
    "\n",
    "df.head(5)"
   ]
  },
  {
   "cell_type": "code",
   "execution_count": 89,
   "metadata": {},
   "outputs": [
    {
     "name": "stdout",
     "output_type": "stream",
     "text": [
      "1941       15\n",
      "1942       47\n",
      "1943       89\n",
      "1944       81\n",
      "1945       79\n",
      "1946       83\n",
      "1947      185\n",
      "1948      236\n",
      "1949      423\n",
      "1950      653\n",
      "1951      657\n",
      "1952      632\n",
      "1953      710\n",
      "1954      509\n",
      "1955      457\n",
      "1956      524\n",
      "1957      560\n",
      "1958      660\n",
      "1959      567\n",
      "1960      500\n",
      "1961      535\n",
      "1962      594\n",
      "1963     1484\n",
      "1964     2173\n",
      "1965     2639\n",
      "1966     2077\n",
      "1967    16611\n",
      "1968     1024\n",
      "1969     1076\n",
      "1970     1668\n",
      "1971      787\n",
      "1972     4966\n",
      "1973      870\n",
      "1974     4272\n",
      "1975      535\n",
      "1976     3307\n",
      "1977      170\n",
      "1978      209\n",
      "1979      310\n",
      "1980      773\n",
      "1981      485\n",
      "1982      969\n",
      "1983    11548\n",
      "1984      731\n",
      "1985     1144\n",
      "1986     1508\n",
      "1987     1216\n",
      "1988     1168\n",
      "1989      527\n",
      "1990      644\n",
      "1991      288\n",
      "1992      381\n",
      "1993      251\n",
      "1994      245\n",
      "1995      110\n",
      "1996        6\n",
      "1999       20\n",
      "2000       11\n",
      "2001        1\n",
      "Name: publication_year, dtype: int64\n"
     ]
    },
    {
     "data": {
      "text/plain": [
       "<matplotlib.axes._subplots.AxesSubplot at 0x1bab6c62a58>"
      ]
     },
     "execution_count": 89,
     "metadata": {},
     "output_type": "execute_result"
    },
    {
     "data": {
      "image/png": "[encoded data removed]",
      "text/plain": [
       "<Figure size 432x288 with 1 Axes>"
      ]
     },
     "metadata": {
      "needs_background": "light"
     },
     "output_type": "display_data"
    }
   ],
   "source": [
    "print(df.publication_year.value_counts().sort_index())\n",
    "df.publication_year.value_counts().sort_index().plot()"
   ]
  },
  {
   "cell_type": "code",
   "execution_count": 90,
   "metadata": {},
   "outputs": [
    {
     "name": "stdout",
     "output_type": "stream",
     "text": [
      "1      3310\n",
      "2      2999\n",
      "3      3478\n",
      "4      3324\n",
      "5      3168\n",
      "6      3173\n",
      "7      3136\n",
      "8      3166\n",
      "9      2917\n",
      "10    10355\n",
      "11     3033\n",
      "12    32941\n",
      "Name: publication_month, dtype: int64\n"
     ]
    },
    {
     "data": {
      "text/plain": [
       "<matplotlib.axes._subplots.AxesSubplot at 0x1bab6faa470>"
      ]
     },
     "execution_count": 90,
     "metadata": {},
     "output_type": "execute_result"
    },
    {
     "data": {
      "image/png": "[encoded data removed]",
      "text/plain": [
       "<Figure size 432x288 with 1 Axes>"
      ]
     },
     "metadata": {
      "needs_background": "light"
     },
     "output_type": "display_data"
    }
   ],
   "source": [
    "print(df.publication_month.value_counts().sort_index())\n",
    "df.publication_month.value_counts().sort_index().plot()"
   ]
  },
  {
   "cell_type": "code",
   "execution_count": 91,
   "metadata": {},
   "outputs": [
    {
     "name": "stdout",
     "output_type": "stream",
     "text": [
      "1      7680\n",
      "2      1067\n",
      "3      1083\n",
      "4      7685\n",
      "5      1000\n",
      "6      1030\n",
      "7      1003\n",
      "8      1058\n",
      "9      1092\n",
      "10     1131\n",
      "11      966\n",
      "12     1065\n",
      "13     1010\n",
      "14     1036\n",
      "15     1146\n",
      "16     1031\n",
      "17     1029\n",
      "18     1059\n",
      "19     1085\n",
      "20     1090\n",
      "21     1028\n",
      "22     1051\n",
      "23     1074\n",
      "24      953\n",
      "25      918\n",
      "26      986\n",
      "27     1032\n",
      "28     1036\n",
      "29      924\n",
      "30      949\n",
      "31    30703\n",
      "Name: publication_day, dtype: int64\n"
     ]
    },
    {
     "data": {
      "text/plain": [
       "<matplotlib.axes._subplots.AxesSubplot at 0x1bab6f98128>"
      ]
     },
     "execution_count": 91,
     "metadata": {},
     "output_type": "execute_result"
    },
    {
     "data": {
      "image/png": "[encoded data removed]",
      "text/plain": [
       "<Figure size 432x288 with 1 Axes>"
      ]
     },
     "metadata": {
      "needs_background": "light"
     },
     "output_type": "display_data"
    }
   ],
   "source": [
    "print(df.publication_day.value_counts().sort_index())\n",
    "df.publication_day.value_counts().sort_index().plot()"
   ]
  },
  {
   "cell_type": "code",
   "execution_count": 92,
   "metadata": {},
   "outputs": [
    {
     "data": {
      "text/plain": [
       "60"
      ]
     },
     "execution_count": 92,
     "metadata": {},
     "output_type": "execute_result"
    }
   ],
   "source": [
    "# check the data duration\n",
    "df.publication_year.max() - df.publication_year.min()\n",
    "# we have 60 years of data"
   ]
  },
  {
   "cell_type": "code",
   "execution_count": 93,
   "metadata": {},
   "outputs": [
    {
     "data": {
      "text/plain": [
       "collection                     object\n",
       "document_number                object\n",
       "release_decision               object\n",
       "document_page_count           float64\n",
       "sequence_number                 int64\n",
       "publication_date       datetime64[ns]\n",
       "content_type                   object\n",
       "collection_labels               int64\n",
       "publication_day                 int64\n",
       "publication_month               int64\n",
       "publication_year                int64\n",
       "dtype: object"
      ]
     },
     "execution_count": 93,
     "metadata": {},
     "output_type": "execute_result"
    }
   ],
   "source": [
    "# check the types of the features/columns\n",
    "df.dtypes"
   ]
  },
  {
   "cell_type": "code",
   "execution_count": 95,
   "metadata": {
    "collapsed": true
   },
   "outputs": [],
   "source": [
    "# 2) checking and extracting features from doc number\n",
    "df['sub_department'] = df.document_number.str.slice(4,7)\n"
   ]
  },
  {
   "cell_type": "code",
   "execution_count": 96,
   "metadata": {},
   "outputs": [
    {
     "name": "stdout",
     "output_type": "stream",
     "text": [
      "RDP    72546\n",
      "HAK     2454\n",
      "Name: sub_department, dtype: int64\n"
     ]
    },
    {
     "data": {
      "text/plain": [
       "<matplotlib.axes._subplots.AxesSubplot at 0x1bab7989160>"
      ]
     },
     "execution_count": 96,
     "metadata": {},
     "output_type": "execute_result"
    },
    {
     "data": {
      "image/png": "[encoded data removed]",
      "text/plain": [
       "<Figure size 432x288 with 1 Axes>"
      ]
     },
     "metadata": {
      "needs_background": "light"
     },
     "output_type": "display_data"
    }
   ],
   "source": [
    "print(df['sub_department'].value_counts())\n",
    "df['sub_department'].value_counts().hist()"
   ]
  },
  {
   "cell_type": "code",
   "execution_count": null,
   "metadata": {
    "collapsed": true
   },
   "outputs": [],
   "source": []
  },
  {
   "cell_type": "code",
   "execution_count": 97,
   "metadata": {
    "collapsed": true
   },
   "outputs": [],
   "source": [
    "# convert sub department into numeric features\n",
    "# replace values of release decsions with their freq dist\n",
    "df['sub_department_num'] = df['sub_department'].map({'RDP': 1 ,\n",
    "                                                   'HAK': 0\n",
    "                                               })"
   ]
  },
  {
   "cell_type": "code",
   "execution_count": 98,
   "metadata": {
    "collapsed": true
   },
   "outputs": [],
   "source": [
    "# checking and extracting features from doc number\n",
    "#df['job_number'] = df.document_number.str.slice(4,7)\n",
    "df['check_digit'] = df.document_number.str.slice(-1, )\n",
    "\n",
    "# and that's enough from the document number, because the number format is little bit different for different instances of\n",
    "# the dataset---- we can remove document number and keep sub_department and check_digit"
   ]
  },
  {
   "cell_type": "code",
   "execution_count": 99,
   "metadata": {
    "collapsed": true
   },
   "outputs": [],
   "source": [
    "# convert the type from object to int\n",
    "df['check_digit'] = df['check_digit'].astype(int)\n"
   ]
  },
  {
   "cell_type": "code",
   "execution_count": 100,
   "metadata": {},
   "outputs": [
    {
     "data": {
      "text/plain": [
       "6    7816\n",
       "0    7591\n",
       "3    7553\n",
       "1    7536\n",
       "5    7499\n",
       "2    7492\n",
       "7    7417\n",
       "8    7403\n",
       "4    7385\n",
       "9    7308\n",
       "Name: check_digit, dtype: int64"
      ]
     },
     "execution_count": 100,
     "metadata": {},
     "output_type": "execute_result"
    }
   ],
   "source": [
    "df['check_digit'].value_counts()"
   ]
  },
  {
   "cell_type": "code",
   "execution_count": 101,
   "metadata": {},
   "outputs": [
    {
     "name": "stdout",
     "output_type": "stream",
     "text": [
      "RIPPUB    38152\n",
      "RIF       29692\n",
      "RIFPUB     4498\n",
      "RIPLIM     1480\n",
      "RIFLIM      974\n",
      "RIP         204\n",
      "Name: release_decision, dtype: int64\n",
      "[38152, 29692, 4498, 1480, 974, 204]\n",
      "75000\n",
      "[0.5086933333333333, 0.3958933333333333, 0.05997333333333333, 0.019733333333333332, 0.012986666666666667, 0.00272]\n"
     ]
    }
   ],
   "source": [
    "# 3) categorical to numerical variable based on their frequency distribution\n",
    "print(df['release_decision'].value_counts())\n",
    "release_descision_freq = df.release_decision.value_counts().tolist()\n",
    "print(release_descision_freq)\n",
    "print(sum(release_descision_freq))\n",
    "\n",
    "release_descision_freq_dist = [x / sum(release_descision_freq) for x in release_descision_freq]\n",
    "\n",
    "print(release_descision_freq_dist)"
   ]
  },
  {
   "cell_type": "code",
   "execution_count": 102,
   "metadata": {},
   "outputs": [
    {
     "data": {
      "text/plain": [
       "<matplotlib.axes._subplots.AxesSubplot at 0x1bab79606d8>"
      ]
     },
     "execution_count": 102,
     "metadata": {},
     "output_type": "execute_result"
    },
    {
     "data": {
      "image/png": "[encoded data removed]",
      "text/plain": [
       "<Figure size 432x288 with 1 Axes>"
      ]
     },
     "metadata": {
      "needs_background": "light"
     },
     "output_type": "display_data"
    }
   ],
   "source": [
    "df['release_decision'].value_counts().plot()"
   ]
  },
  {
   "cell_type": "code",
   "execution_count": 103,
   "metadata": {
    "collapsed": true
   },
   "outputs": [],
   "source": [
    "# replace values of release decsions with their freq dist\n",
    "df['release_decision_num'] = df['release_decision'].map({'RIPPUB': release_descision_freq_dist[0] ,\n",
    "                                       'RIF': release_descision_freq_dist[1] ,\n",
    "                                       'RIFPUB' : release_descision_freq_dist[2],\n",
    "                                       'RIPLIM': release_descision_freq_dist[3],\n",
    "                                       'RIFLIM': release_descision_freq_dist[4],\n",
    "                                       'RIP' : release_descision_freq_dist[5]\n",
    "                                       })\n"
   ]
  },
  {
   "cell_type": "code",
   "execution_count": 104,
   "metadata": {},
   "outputs": [
    {
     "data": {
      "text/plain": [
       "0.508693    38152\n",
       "0.395893    29692\n",
       "0.059973     4498\n",
       "0.019733     1480\n",
       "0.012987      974\n",
       "0.002720      204\n",
       "Name: release_decision_num, dtype: int64"
      ]
     },
     "execution_count": 104,
     "metadata": {},
     "output_type": "execute_result"
    }
   ],
   "source": [
    "df['release_decision_num'].value_counts()"
   ]
  },
  {
   "cell_type": "code",
   "execution_count": 105,
   "metadata": {},
   "outputs": [
    {
     "data": {
      "text/plain": [
       "ABSTRACTS              15000\n",
       "AG                        60\n",
       "BIO                        3\n",
       "BOOK                       8\n",
       "BR                         4\n",
       "BRIEF                    623\n",
       "BULL                      70\n",
       "CABLE                   4340\n",
       "CAPCARD                 6709\n",
       "CHART                     25\n",
       "CIAPER                    18\n",
       "CONT                     215\n",
       "DCID                       1\n",
       "DISP                      21\n",
       "FORM                    1038\n",
       "HW                       616\n",
       "IM                       181\n",
       "IR                       772\n",
       "IRR                        8\n",
       "IS                         2\n",
       "LETTER                  1500\n",
       "LIST                     197\n",
       "MAGAZINE                  61\n",
       "MAP                       22\n",
       "MEMO                    4871\n",
       "MF                      2475\n",
       "MFR                      707\n",
       "MIN                      213\n",
       "MISC                    1513\n",
       "NIE                       46\n",
       "NIS                        2\n",
       "NOTES                    504\n",
       "NSPR                     835\n",
       "OPEN                     151\n",
       "OPEN SOURCE             2224\n",
       "OUTLINE                   28\n",
       "PAPER                     86\n",
       "PERRPT                   164\n",
       "PHOTO                    150\n",
       "PREL                      30\n",
       "REGULATION               204\n",
       "REPORT                 11951\n",
       "REQ                     1274\n",
       "RP                        85\n",
       "RS                        23\n",
       "SCIENCEAB               1617\n",
       "SCIENTIFIC ABSTR         372\n",
       "SCIENTIFIC ABSTRACT    12956\n",
       "SE                         2\n",
       "SNIE                      26\n",
       "SPEECH                    10\n",
       "SS                        63\n",
       "STATEMENT                 98\n",
       "STUDY                     57\n",
       "SUMMARY                  680\n",
       "TDCS                       7\n",
       "TELEGRAM                  12\n",
       "TRANS                     61\n",
       "TRIP                       9\n",
       "Name: content_type, dtype: int64"
      ]
     },
     "execution_count": 105,
     "metadata": {},
     "output_type": "execute_result"
    }
   ],
   "source": [
    "df['content_type'].value_counts().sort_index()"
   ]
  },
  {
   "cell_type": "code",
   "execution_count": 106,
   "metadata": {},
   "outputs": [
    {
     "name": "stdout",
     "output_type": "stream",
     "text": [
      "['ABSTRACTS', 'AG', 'BIO', 'BOOK', 'BR', 'BRIEF', 'BULL', 'CABLE', 'CAPCARD', 'CHART', 'CIAPER', 'CONT', 'DCID', 'DISP', 'FORM', 'HW', 'IM', 'IR', 'IRR', 'IS', 'LETTER', 'LIST', 'MAGAZINE', 'MAP', 'MEMO', 'MF', 'MFR', 'MIN', 'MISC', 'NIE', 'NIS', 'NOTES', 'NSPR', 'OPEN', 'OPEN SOURCE', 'OUTLINE', 'PAPER', 'PERRPT', 'PHOTO', 'PREL', 'REGULATION', 'REPORT', 'REQ', 'RP', 'RS', 'SCIENCEAB', 'SCIENTIFIC ABSTR', 'SCIENTIFIC ABSTRACT', 'SE', 'SNIE', 'SPEECH', 'SS', 'STATEMENT', 'STUDY', 'SUMMARY', 'TDCS', 'TELEGRAM', 'TRANS', 'TRIP']\n",
      "[15000, 60, 3, 8, 4, 623, 70, 4340, 6709, 25, 18, 215, 1, 21, 1038, 616, 181, 772, 8, 2, 1500, 197, 61, 22, 4871, 2475, 707, 213, 1513, 46, 2, 504, 835, 151, 2224, 28, 86, 164, 150, 30, 204, 11951, 1274, 85, 23, 1617, 372, 12956, 2, 26, 10, 63, 98, 57, 680, 7, 12, 61, 9]\n",
      "[0.2, 0.0008, 4e-05, 0.00010666666666666667, 5.333333333333333e-05, 0.008306666666666667, 0.0009333333333333333, 0.057866666666666663, 0.08945333333333333, 0.0003333333333333333, 0.00024, 0.0028666666666666667, 1.3333333333333333e-05, 0.00028, 0.01384, 0.008213333333333333, 0.0024133333333333333, 0.010293333333333333, 0.00010666666666666667, 2.6666666666666667e-05, 0.02, 0.0026266666666666665, 0.0008133333333333333, 0.0002933333333333333, 0.06494666666666667, 0.033, 0.009426666666666667, 0.00284, 0.020173333333333335, 0.0006133333333333334, 2.6666666666666667e-05, 0.00672, 0.011133333333333334, 0.002013333333333333, 0.029653333333333334, 0.0003733333333333333, 0.0011466666666666667, 0.0021866666666666666, 0.002, 0.0004, 0.00272, 0.15934666666666666, 0.016986666666666667, 0.0011333333333333334, 0.0003066666666666667, 0.02156, 0.00496, 0.17274666666666666, 2.6666666666666667e-05, 0.00034666666666666667, 0.00013333333333333334, 0.00084, 0.0013066666666666667, 0.00076, 0.009066666666666667, 9.333333333333333e-05, 0.00016, 0.0008133333333333333, 0.00012]\n",
      "{'ABSTRACTS': 0.2, 'AG': 0.0008, 'BIO': 4e-05, 'BOOK': 0.00010666666666666667, 'BR': 5.333333333333333e-05, 'BRIEF': 0.008306666666666667, 'BULL': 0.0009333333333333333, 'CABLE': 0.057866666666666663, 'CAPCARD': 0.08945333333333333, 'CHART': 0.0003333333333333333, 'CIAPER': 0.00024, 'CONT': 0.0028666666666666667, 'DCID': 1.3333333333333333e-05, 'DISP': 0.00028, 'FORM': 0.01384, 'HW': 0.008213333333333333, 'IM': 0.0024133333333333333, 'IR': 0.010293333333333333, 'IRR': 0.00010666666666666667, 'IS': 2.6666666666666667e-05, 'LETTER': 0.02, 'LIST': 0.0026266666666666665, 'MAGAZINE': 0.0008133333333333333, 'MAP': 0.0002933333333333333, 'MEMO': 0.06494666666666667, 'MF': 0.033, 'MFR': 0.009426666666666667, 'MIN': 0.00284, 'MISC': 0.020173333333333335, 'NIE': 0.0006133333333333334, 'NIS': 2.6666666666666667e-05, 'NOTES': 0.00672, 'NSPR': 0.011133333333333334, 'OPEN': 0.002013333333333333, 'OPEN SOURCE': 0.029653333333333334, 'OUTLINE': 0.0003733333333333333, 'PAPER': 0.0011466666666666667, 'PERRPT': 0.0021866666666666666, 'PHOTO': 0.002, 'PREL': 0.0004, 'REGULATION': 0.00272, 'REPORT': 0.15934666666666666, 'REQ': 0.016986666666666667, 'RP': 0.0011333333333333334, 'RS': 0.0003066666666666667, 'SCIENCEAB': 0.02156, 'SCIENTIFIC ABSTR': 0.00496, 'SCIENTIFIC ABSTRACT': 0.17274666666666666, 'SE': 2.6666666666666667e-05, 'SNIE': 0.00034666666666666667, 'SPEECH': 0.00013333333333333334, 'SS': 0.00084, 'STATEMENT': 0.0013066666666666667, 'STUDY': 0.00076, 'SUMMARY': 0.009066666666666667, 'TDCS': 9.333333333333333e-05, 'TELEGRAM': 0.00016, 'TRANS': 0.0008133333333333333, 'TRIP': 0.00012}\n"
     ]
    }
   ],
   "source": [
    "# 4) content type: categorical to numerical variable based on their frequency distribution\n",
    "\n",
    "#content_type_keys = df[['content_type']].drop_duplicates().tolist()\n",
    "#content_type_keys = content_type_keys.tolist()\n",
    "content_type_keys = df['content_type'].drop_duplicates().values.tolist()\n",
    "content_type_keys.sort()\n",
    "#content_type_keys = content_type_keys.sort()\n",
    "print(content_type_keys)\n",
    "\n",
    "\n",
    "content_type_values = df.content_type.value_counts().sort_index().tolist()\n",
    "print(content_type_values)\n",
    "content_type_values = [x / sum(content_type_values) for x in content_type_values]\n",
    "print(content_type_values)\n",
    "\n",
    "content_type_dict = dict(zip(content_type_keys, content_type_values))\n",
    "print(content_type_dict)\n"
   ]
  },
  {
   "cell_type": "code",
   "execution_count": 107,
   "metadata": {
    "collapsed": true
   },
   "outputs": [],
   "source": [
    "# now map these freq dist valeus to the dataframe \n",
    "\n",
    "# replace values of release decsions with their freq dist\n",
    "df['content_type_num'] = df['content_type'].map(content_type_dict)\n"
   ]
  },
  {
   "cell_type": "code",
   "execution_count": 108,
   "metadata": {},
   "outputs": [
    {
     "data": {
      "text/plain": [
       "0.200000    15000\n",
       "0.172747    12956\n",
       "0.159347    11951\n",
       "0.089453     6709\n",
       "0.064947     4871\n",
       "0.057867     4340\n",
       "0.033000     2475\n",
       "0.029653     2224\n",
       "0.021560     1617\n",
       "0.020173     1513\n",
       "0.020000     1500\n",
       "0.016987     1274\n",
       "0.013840     1038\n",
       "0.011133      835\n",
       "0.010293      772\n",
       "0.009427      707\n",
       "0.009067      680\n",
       "0.008307      623\n",
       "0.008213      616\n",
       "0.006720      504\n",
       "0.004960      372\n",
       "0.002867      215\n",
       "0.002840      213\n",
       "0.002720      204\n",
       "0.002627      197\n",
       "0.002413      181\n",
       "0.002187      164\n",
       "0.002013      151\n",
       "0.002000      150\n",
       "0.000813      122\n",
       "0.001307       98\n",
       "0.001147       86\n",
       "0.001133       85\n",
       "0.000933       70\n",
       "0.000840       63\n",
       "0.000800       60\n",
       "0.000760       57\n",
       "0.000613       46\n",
       "0.000400       30\n",
       "0.000373       28\n",
       "0.000347       26\n",
       "0.000333       25\n",
       "0.000307       23\n",
       "0.000293       22\n",
       "0.000280       21\n",
       "0.000240       18\n",
       "0.000107       16\n",
       "0.000160       12\n",
       "0.000133       10\n",
       "0.000120        9\n",
       "0.000093        7\n",
       "0.000027        6\n",
       "0.000053        4\n",
       "0.000040        3\n",
       "0.000013        1\n",
       "Name: content_type_num, dtype: int64"
      ]
     },
     "execution_count": 108,
     "metadata": {},
     "output_type": "execute_result"
    }
   ],
   "source": [
    "df['content_type_num'].value_counts()"
   ]
  },
  {
   "cell_type": "code",
   "execution_count": 109,
   "metadata": {
    "scrolled": true
   },
   "outputs": [
    {
     "data": {
      "text/html": [
       "<div>\n",
       "<style scoped>\n",
       "    .dataframe tbody tr th:only-of-type {\n",
       "        vertical-align: middle;\n",
       "    }\n",
       "\n",
       "    .dataframe tbody tr th {\n",
       "        vertical-align: top;\n",
       "    }\n",
       "\n",
       "    .dataframe thead th {\n",
       "        text-align: right;\n",
       "    }\n",
       "</style>\n",
       "<table border=\"1\" class=\"dataframe\">\n",
       "  <thead>\n",
       "    <tr style=\"text-align: right;\">\n",
       "      <th></th>\n",
       "      <th>collection</th>\n",
       "      <th>document_number</th>\n",
       "      <th>release_decision</th>\n",
       "      <th>document_page_count</th>\n",
       "      <th>sequence_number</th>\n",
       "      <th>publication_date</th>\n",
       "      <th>content_type</th>\n",
       "      <th>collection_labels</th>\n",
       "      <th>publication_day</th>\n",
       "      <th>publication_month</th>\n",
       "      <th>publication_year</th>\n",
       "      <th>sub_department</th>\n",
       "      <th>sub_department_num</th>\n",
       "      <th>check_digit</th>\n",
       "      <th>release_decision_num</th>\n",
       "      <th>content_type_num</th>\n",
       "    </tr>\n",
       "  </thead>\n",
       "  <tbody>\n",
       "    <tr>\n",
       "      <th>0</th>\n",
       "      <td>General_CIA_Records</td>\n",
       "      <td>CIA-RDP88G01332R001301470016-9</td>\n",
       "      <td>RIPPUB</td>\n",
       "      <td>3.0</td>\n",
       "      <td>16</td>\n",
       "      <td>1986-10-31</td>\n",
       "      <td>MEMO</td>\n",
       "      <td>0</td>\n",
       "      <td>31</td>\n",
       "      <td>10</td>\n",
       "      <td>1986</td>\n",
       "      <td>RDP</td>\n",
       "      <td>1</td>\n",
       "      <td>9</td>\n",
       "      <td>0.508693</td>\n",
       "      <td>0.064947</td>\n",
       "    </tr>\n",
       "    <tr>\n",
       "      <th>1</th>\n",
       "      <td>General_CIA_Records</td>\n",
       "      <td>CIA-RDP94B00280R001200040002-0</td>\n",
       "      <td>RIPPUB</td>\n",
       "      <td>10.0</td>\n",
       "      <td>2</td>\n",
       "      <td>1983-06-22</td>\n",
       "      <td>MEMO</td>\n",
       "      <td>0</td>\n",
       "      <td>22</td>\n",
       "      <td>6</td>\n",
       "      <td>1983</td>\n",
       "      <td>RDP</td>\n",
       "      <td>1</td>\n",
       "      <td>0</td>\n",
       "      <td>0.508693</td>\n",
       "      <td>0.064947</td>\n",
       "    </tr>\n",
       "    <tr>\n",
       "      <th>2</th>\n",
       "      <td>General_CIA_Records</td>\n",
       "      <td>CIA-RDP80-00810A002500690001-1</td>\n",
       "      <td>RIPPUB</td>\n",
       "      <td>4.0</td>\n",
       "      <td>1</td>\n",
       "      <td>1953-11-03</td>\n",
       "      <td>REPORT</td>\n",
       "      <td>0</td>\n",
       "      <td>3</td>\n",
       "      <td>11</td>\n",
       "      <td>1953</td>\n",
       "      <td>RDP</td>\n",
       "      <td>1</td>\n",
       "      <td>1</td>\n",
       "      <td>0.508693</td>\n",
       "      <td>0.159347</td>\n",
       "    </tr>\n",
       "    <tr>\n",
       "      <th>3</th>\n",
       "      <td>General_CIA_Records</td>\n",
       "      <td>CIA-RDP82-00457R008500360004-9</td>\n",
       "      <td>RIPPUB</td>\n",
       "      <td>2.0</td>\n",
       "      <td>4</td>\n",
       "      <td>1951-08-13</td>\n",
       "      <td>REPORT</td>\n",
       "      <td>0</td>\n",
       "      <td>13</td>\n",
       "      <td>8</td>\n",
       "      <td>1951</td>\n",
       "      <td>RDP</td>\n",
       "      <td>1</td>\n",
       "      <td>9</td>\n",
       "      <td>0.508693</td>\n",
       "      <td>0.159347</td>\n",
       "    </tr>\n",
       "    <tr>\n",
       "      <th>4</th>\n",
       "      <td>General_CIA_Records</td>\n",
       "      <td>CIA-RDP70-00211R000100070047-1</td>\n",
       "      <td>RIPPUB</td>\n",
       "      <td>2.0</td>\n",
       "      <td>47</td>\n",
       "      <td>1953-01-05</td>\n",
       "      <td>REPORT</td>\n",
       "      <td>0</td>\n",
       "      <td>5</td>\n",
       "      <td>1</td>\n",
       "      <td>1953</td>\n",
       "      <td>RDP</td>\n",
       "      <td>1</td>\n",
       "      <td>1</td>\n",
       "      <td>0.508693</td>\n",
       "      <td>0.159347</td>\n",
       "    </tr>\n",
       "  </tbody>\n",
       "</table>\n",
       "</div>"
      ],
      "text/plain": [
       "            collection                 document_number release_decision  \\\n",
       "0  General_CIA_Records  CIA-RDP88G01332R001301470016-9           RIPPUB   \n",
       "1  General_CIA_Records  CIA-RDP94B00280R001200040002-0           RIPPUB   \n",
       "2  General_CIA_Records  CIA-RDP80-00810A002500690001-1           RIPPUB   \n",
       "3  General_CIA_Records  CIA-RDP82-00457R008500360004-9           RIPPUB   \n",
       "4  General_CIA_Records  CIA-RDP70-00211R000100070047-1           RIPPUB   \n",
       "\n",
       "   document_page_count  sequence_number publication_date content_type  \\\n",
       "0                  3.0               16       1986-10-31         MEMO   \n",
       "1                 10.0                2       1983-06-22         MEMO   \n",
       "2                  4.0                1       1953-11-03       REPORT   \n",
       "3                  2.0                4       1951-08-13       REPORT   \n",
       "4                  2.0               47       1953-01-05       REPORT   \n",
       "\n",
       "   collection_labels  publication_day  publication_month  publication_year  \\\n",
       "0                  0               31                 10              1986   \n",
       "1                  0               22                  6              1983   \n",
       "2                  0                3                 11              1953   \n",
       "3                  0               13                  8              1951   \n",
       "4                  0                5                  1              1953   \n",
       "\n",
       "  sub_department  sub_department_num  check_digit  release_decision_num  \\\n",
       "0            RDP                   1            9              0.508693   \n",
       "1            RDP                   1            0              0.508693   \n",
       "2            RDP                   1            1              0.508693   \n",
       "3            RDP                   1            9              0.508693   \n",
       "4            RDP                   1            1              0.508693   \n",
       "\n",
       "   content_type_num  \n",
       "0          0.064947  \n",
       "1          0.064947  \n",
       "2          0.159347  \n",
       "3          0.159347  \n",
       "4          0.159347  "
      ]
     },
     "execution_count": 109,
     "metadata": {},
     "output_type": "execute_result"
    }
   ],
   "source": [
    "df.head(5)"
   ]
  },
  {
   "cell_type": "code",
   "execution_count": 110,
   "metadata": {},
   "outputs": [
    {
     "data": {
      "text/plain": [
       "RDP    72546\n",
       "HAK     2454\n",
       "Name: sub_department, dtype: int64"
      ]
     },
     "execution_count": 110,
     "metadata": {},
     "output_type": "execute_result"
    }
   ],
   "source": [
    "df['sub_department'].value_counts()"
   ]
  },
  {
   "cell_type": "code",
   "execution_count": 111,
   "metadata": {},
   "outputs": [
    {
     "name": "stdout",
     "output_type": "stream",
     "text": [
      "<class 'pandas.core.frame.DataFrame'>\n",
      "RangeIndex: 75000 entries, 0 to 74999\n",
      "Data columns (total 16 columns):\n",
      "collection              75000 non-null object\n",
      "document_number         75000 non-null object\n",
      "release_decision        75000 non-null object\n",
      "document_page_count     75000 non-null float64\n",
      "sequence_number         75000 non-null int64\n",
      "publication_date        75000 non-null datetime64[ns]\n",
      "content_type            75000 non-null object\n",
      "collection_labels       75000 non-null int64\n",
      "publication_day         75000 non-null int64\n",
      "publication_month       75000 non-null int64\n",
      "publication_year        75000 non-null int64\n",
      "sub_department          75000 non-null object\n",
      "sub_department_num      75000 non-null int64\n",
      "check_digit             75000 non-null int32\n",
      "release_decision_num    75000 non-null float64\n",
      "content_type_num        75000 non-null float64\n",
      "dtypes: datetime64[ns](1), float64(3), int32(1), int64(6), object(5)\n",
      "memory usage: 8.9+ MB\n"
     ]
    }
   ],
   "source": [
    "df.info()"
   ]
  },
  {
   "cell_type": "code",
   "execution_count": 112,
   "metadata": {},
   "outputs": [
    {
     "data": {
      "text/plain": [
       "Index(['collection', 'document_number', 'release_decision',\n",
       "       'document_page_count', 'sequence_number', 'publication_date',\n",
       "       'content_type', 'collection_labels', 'publication_day',\n",
       "       'publication_month', 'publication_year', 'sub_department',\n",
       "       'sub_department_num', 'check_digit', 'release_decision_num',\n",
       "       'content_type_num'],\n",
       "      dtype='object')"
      ]
     },
     "execution_count": 112,
     "metadata": {},
     "output_type": "execute_result"
    }
   ],
   "source": [
    "df.columns"
   ]
  },
  {
   "cell_type": "code",
   "execution_count": 113,
   "metadata": {
    "collapsed": true
   },
   "outputs": [],
   "source": [
    "# drop the columsn which are categorical and keep their new numeric features and save df_numeric file for further processing\n",
    "df_numeric = df[['document_page_count', 'sequence_number', 'collection_labels', 'publication_day',\n",
    "       'publication_month', 'publication_year', 'check_digit', 'release_decision_num', 'content_type_num', \n",
    "         'sub_department_num']]"
   ]
  },
  {
   "cell_type": "code",
   "execution_count": 118,
   "metadata": {},
   "outputs": [
    {
     "data": {
      "text/html": [
       "<div>\n",
       "<style scoped>\n",
       "    .dataframe tbody tr th:only-of-type {\n",
       "        vertical-align: middle;\n",
       "    }\n",
       "\n",
       "    .dataframe tbody tr th {\n",
       "        vertical-align: top;\n",
       "    }\n",
       "\n",
       "    .dataframe thead th {\n",
       "        text-align: right;\n",
       "    }\n",
       "</style>\n",
       "<table border=\"1\" class=\"dataframe\">\n",
       "  <thead>\n",
       "    <tr style=\"text-align: right;\">\n",
       "      <th></th>\n",
       "      <th>document_page_count</th>\n",
       "      <th>sequence_number</th>\n",
       "      <th>collection_labels</th>\n",
       "      <th>publication_day</th>\n",
       "      <th>publication_month</th>\n",
       "      <th>publication_year</th>\n",
       "      <th>check_digit</th>\n",
       "      <th>release_decision_num</th>\n",
       "      <th>content_type_num</th>\n",
       "      <th>sub_department_num</th>\n",
       "    </tr>\n",
       "  </thead>\n",
       "  <tbody>\n",
       "    <tr>\n",
       "      <th>0</th>\n",
       "      <td>3.0</td>\n",
       "      <td>16</td>\n",
       "      <td>0</td>\n",
       "      <td>31</td>\n",
       "      <td>10</td>\n",
       "      <td>1986</td>\n",
       "      <td>9</td>\n",
       "      <td>0.508693</td>\n",
       "      <td>0.064947</td>\n",
       "      <td>1</td>\n",
       "    </tr>\n",
       "    <tr>\n",
       "      <th>1</th>\n",
       "      <td>10.0</td>\n",
       "      <td>2</td>\n",
       "      <td>0</td>\n",
       "      <td>22</td>\n",
       "      <td>6</td>\n",
       "      <td>1983</td>\n",
       "      <td>0</td>\n",
       "      <td>0.508693</td>\n",
       "      <td>0.064947</td>\n",
       "      <td>1</td>\n",
       "    </tr>\n",
       "    <tr>\n",
       "      <th>2</th>\n",
       "      <td>4.0</td>\n",
       "      <td>1</td>\n",
       "      <td>0</td>\n",
       "      <td>3</td>\n",
       "      <td>11</td>\n",
       "      <td>1953</td>\n",
       "      <td>1</td>\n",
       "      <td>0.508693</td>\n",
       "      <td>0.159347</td>\n",
       "      <td>1</td>\n",
       "    </tr>\n",
       "    <tr>\n",
       "      <th>3</th>\n",
       "      <td>2.0</td>\n",
       "      <td>4</td>\n",
       "      <td>0</td>\n",
       "      <td>13</td>\n",
       "      <td>8</td>\n",
       "      <td>1951</td>\n",
       "      <td>9</td>\n",
       "      <td>0.508693</td>\n",
       "      <td>0.159347</td>\n",
       "      <td>1</td>\n",
       "    </tr>\n",
       "    <tr>\n",
       "      <th>4</th>\n",
       "      <td>2.0</td>\n",
       "      <td>47</td>\n",
       "      <td>0</td>\n",
       "      <td>5</td>\n",
       "      <td>1</td>\n",
       "      <td>1953</td>\n",
       "      <td>1</td>\n",
       "      <td>0.508693</td>\n",
       "      <td>0.159347</td>\n",
       "      <td>1</td>\n",
       "    </tr>\n",
       "  </tbody>\n",
       "</table>\n",
       "</div>"
      ],
      "text/plain": [
       "   document_page_count  sequence_number  collection_labels  publication_day  \\\n",
       "0                  3.0               16                  0               31   \n",
       "1                 10.0                2                  0               22   \n",
       "2                  4.0                1                  0                3   \n",
       "3                  2.0                4                  0               13   \n",
       "4                  2.0               47                  0                5   \n",
       "\n",
       "   publication_month  publication_year  check_digit  release_decision_num  \\\n",
       "0                 10              1986            9              0.508693   \n",
       "1                  6              1983            0              0.508693   \n",
       "2                 11              1953            1              0.508693   \n",
       "3                  8              1951            9              0.508693   \n",
       "4                  1              1953            1              0.508693   \n",
       "\n",
       "   content_type_num  sub_department_num  \n",
       "0          0.064947                   1  \n",
       "1          0.064947                   1  \n",
       "2          0.159347                   1  \n",
       "3          0.159347                   1  \n",
       "4          0.159347                   1  "
      ]
     },
     "execution_count": 118,
     "metadata": {},
     "output_type": "execute_result"
    }
   ],
   "source": [
    "df_numeric.head(5)"
   ]
  },
  {
   "cell_type": "code",
   "execution_count": 119,
   "metadata": {
    "collapsed": true
   },
   "outputs": [],
   "source": [
    "df.to_csv(r'datasets\\1b-crest-after-numeric-preprocessing.csv', \n",
    "                    index=False)"
   ]
  },
  {
   "cell_type": "code",
   "execution_count": 115,
   "metadata": {},
   "outputs": [
    {
     "name": "stdout",
     "output_type": "stream",
     "text": [
      "<class 'pandas.core.frame.DataFrame'>\n",
      "RangeIndex: 75000 entries, 0 to 74999\n",
      "Data columns (total 16 columns):\n",
      "collection              75000 non-null object\n",
      "document_number         75000 non-null object\n",
      "release_decision        75000 non-null object\n",
      "document_page_count     75000 non-null float64\n",
      "sequence_number         75000 non-null int64\n",
      "publication_date        75000 non-null datetime64[ns]\n",
      "content_type            75000 non-null object\n",
      "collection_labels       75000 non-null int64\n",
      "publication_day         75000 non-null int64\n",
      "publication_month       75000 non-null int64\n",
      "publication_year        75000 non-null int64\n",
      "sub_department          75000 non-null object\n",
      "sub_department_num      75000 non-null int64\n",
      "check_digit             75000 non-null int32\n",
      "release_decision_num    75000 non-null float64\n",
      "content_type_num        75000 non-null float64\n",
      "dtypes: datetime64[ns](1), float64(3), int32(1), int64(6), object(5)\n",
      "memory usage: 8.9+ MB\n"
     ]
    }
   ],
   "source": [
    "df.info()"
   ]
  },
  {
   "cell_type": "code",
   "execution_count": 116,
   "metadata": {},
   "outputs": [
    {
     "data": {
      "text/plain": [
       "publication_month  collection               \n",
       "1                  General_CIA_Records           1294\n",
       "                   Misc                           791\n",
       "                   NGA_Records                   1225\n",
       "2                  General_CIA_Records           1185\n",
       "                   Misc                           627\n",
       "                   NGA_Records                   1187\n",
       "3                  General_CIA_Records           1401\n",
       "                   Misc                           758\n",
       "                   NGA_Records                   1319\n",
       "4                  General_CIA_Records           1281\n",
       "                   Misc                           758\n",
       "                   NGA_Records                   1285\n",
       "5                  General_CIA_Records           1292\n",
       "                   Misc                           741\n",
       "                   NGA_Records                   1135\n",
       "6                  General_CIA_Records           1250\n",
       "                   Misc                           573\n",
       "                   NGA_Records                   1350\n",
       "7                  General_CIA_Records           1153\n",
       "                   Misc                           719\n",
       "                   NGA_Records                   1264\n",
       "8                  General_CIA_Records           1213\n",
       "                   Misc                           580\n",
       "                   NGA_Records                   1373\n",
       "9                  General_CIA_Records           1157\n",
       "                   Misc                           619\n",
       "                   NGA_Records                   1141\n",
       "10                 General_CIA_Records           1417\n",
       "                   Misc                          7613\n",
       "                   NGA_Records                   1325\n",
       "11                 General_CIA_Records           1197\n",
       "                   Misc                           652\n",
       "                   NGA_Records                   1184\n",
       "12                 Consolidated_Translations    15000\n",
       "                   General_CIA_Records           1160\n",
       "                   Misc                           569\n",
       "                   NGA_Records                   1212\n",
       "                   Scientific_Abstracts         15000\n",
       "Name: publication_year, dtype: int64"
      ]
     },
     "execution_count": 116,
     "metadata": {},
     "output_type": "execute_result"
    }
   ],
   "source": [
    "df.groupby(['publication_month', 'collection'])['publication_year'].count()\n"
   ]
  },
  {
   "cell_type": "code",
   "execution_count": 117,
   "metadata": {},
   "outputs": [
    {
     "ename": "NameError",
     "evalue": "name 'plt' is not defined",
     "output_type": "error",
     "traceback": [
      "\u001b[1;31m---------------------------------------------------------------------------\u001b[0m",
      "\u001b[1;31mNameError\u001b[0m                                 Traceback (most recent call last)",
      "\u001b[1;32m<ipython-input-117-75a83f59ff96>\u001b[0m in \u001b[0;36m<module>\u001b[1;34m()\u001b[0m\n\u001b[0;32m      1\u001b[0m \u001b[1;31m# plot histogram for each parameter\u001b[0m\u001b[1;33m\u001b[0m\u001b[1;33m\u001b[0m\u001b[0m\n\u001b[0;32m      2\u001b[0m \u001b[0mdf\u001b[0m\u001b[1;33m.\u001b[0m\u001b[0mhist\u001b[0m\u001b[1;33m(\u001b[0m\u001b[0mfigsize\u001b[0m\u001b[1;33m=\u001b[0m\u001b[1;33m(\u001b[0m\u001b[1;36m20\u001b[0m\u001b[1;33m,\u001b[0m\u001b[1;36m20\u001b[0m\u001b[1;33m)\u001b[0m\u001b[1;33m)\u001b[0m\u001b[1;33m\u001b[0m\u001b[0m\n\u001b[1;32m----> 3\u001b[1;33m \u001b[0mplt\u001b[0m\u001b[1;33m.\u001b[0m\u001b[0mshow\u001b[0m\u001b[1;33m(\u001b[0m\u001b[1;33m)\u001b[0m\u001b[1;33m\u001b[0m\u001b[0m\n\u001b[0m",
      "\u001b[1;31mNameError\u001b[0m: name 'plt' is not defined"
     ]
    },
    {
     "data": {
      "image/png": "[encoded data removed]",
      "text/plain": [
       "<Figure size 1440x1440 with 12 Axes>"
      ]
     },
     "metadata": {
      "needs_background": "light"
     },
     "output_type": "display_data"
    }
   ],
   "source": [
    "# plot histogram for each parameter\n",
    "df.hist(figsize=(20,20))\n",
    "plt.show()"
   ]
  },
  {
   "cell_type": "code",
   "execution_count": 75,
   "metadata": {
    "collapsed": true
   },
   "outputs": [],
   "source": []
  }
 ],
 "metadata": {
  "kernelspec": {
   "display_name": "Python 3",
   "language": "python",
   "name": "python3"
  },
  "language_info": {
   "codemirror_mode": {
    "name": "ipython",
    "version": 3
   },
   "file_extension": ".py",
   "mimetype": "text/x-python",
   "name": "python",
   "nbconvert_exporter": "python",
   "pygments_lexer": "ipython3",
   "version": "3.5.4"
  }
 },
 "nbformat": 4,
 "nbformat_minor": 2
}
